{
 "cells": [
  {
   "cell_type": "markdown",
   "metadata": {},
   "source": [
    "Before you turn this problem in, make sure everything runs as expected. First, **restart the kernel** (in the menubar, select Kernel$\\rightarrow$Restart) and then **run all cells** (in the menubar, select Cell$\\rightarrow$Run All).\n",
    "\n",
    "Make sure you fill in any place that says `YOUR CODE HERE` or \"YOUR ANSWER HERE\", as well as your name and University of Bristol ID:"
   ]
  },
  {
   "cell_type": "code",
   "execution_count": 1,
   "metadata": {},
   "outputs": [],
   "source": [
    "NAME = \"Nathan Tozer\"\n",
    "UoB_ID = \"ki18468\""
   ]
  },
  {
   "cell_type": "markdown",
   "metadata": {},
   "source": [
    "---"
   ]
  },
  {
   "cell_type": "markdown",
   "metadata": {
    "deletable": false,
    "editable": false,
    "nbgrader": {
     "cell_type": "markdown",
     "checksum": "d844d77145cdb391dd31811721bed765",
     "grade": false,
     "grade_id": "cell-29cf4604eba861c7",
     "locked": true,
     "schema_version": 3,
     "solution": false,
     "task": false
    }
   },
   "source": [
    "# Homework 4"
   ]
  },
  {
   "cell_type": "markdown",
   "metadata": {
    "deletable": false,
    "editable": false,
    "nbgrader": {
     "cell_type": "markdown",
     "checksum": "2e3f0b0323473a08f2b844e9ab3f4f6a",
     "grade": false,
     "grade_id": "cell-e8aa6d4f1713436f",
     "locked": true,
     "schema_version": 3,
     "solution": false,
     "task": false
    }
   },
   "source": [
    "## Question 1 Fisher’s F-distribution\n",
    "\n",
    "The F-distribution with parameters $n$ and $p$, denoted $F_{n,p}$, is the ratio of two independent $\\chi^2$ random variables. Let $X \\sim\\chi_{n}^2$ and $Y\\sim\\chi_{p}^2$, then\n",
    "$$ F_{n,p} = \\frac{X/n}{Y/p}.$$"
   ]
  },
  {
   "cell_type": "code",
   "execution_count": 2,
   "metadata": {
    "deletable": false,
    "editable": false,
    "nbgrader": {
     "cell_type": "code",
     "checksum": "4fef7bfd84962898ec0e790a961d6f15",
     "grade": false,
     "grade_id": "cell-843b1fcbd0d8748e",
     "locked": true,
     "schema_version": 3,
     "solution": false,
     "task": false
    }
   },
   "outputs": [],
   "source": [
    "import numpy as np\n",
    "from scipy.stats import f"
   ]
  },
  {
   "cell_type": "markdown",
   "metadata": {
    "deletable": false,
    "editable": false,
    "nbgrader": {
     "cell_type": "markdown",
     "checksum": "73b6542d86cd686469834faf76d3cc0d",
     "grade": false,
     "grade_id": "cell-00e8a61b494bbd39",
     "locked": true,
     "schema_version": 3,
     "solution": false,
     "task": false
    }
   },
   "source": [
    "1. Write a function `gen_f_density(n, p, x)` where `n` and `p` are parameters of the F-distribution and $x$ is an 1D `numpy.array` of arbitray length. The function `gen_f(n, p, x)` should output the density of $F_{n,p}$ at values in `x`. This output must also be a `numpy.array` of the same length as `x`.\n",
    "1. Write a function `gen_f_quantile(n, p, q)` where `n` and `p` are parameters of the F-distribution and `q` is the quantile. The function `gen_f(n, p, q)` should output the percent point function of $F_{n,p}$. "
   ]
  },
  {
   "cell_type": "code",
   "execution_count": 3,
   "metadata": {
    "deletable": false,
    "nbgrader": {
     "cell_type": "code",
     "checksum": "bc1461a2f5c6d9f240481cb660c3898e",
     "grade": false,
     "grade_id": "cell-85f5036dadfb168c",
     "locked": false,
     "schema_version": 3,
     "solution": true,
     "task": false
    }
   },
   "outputs": [],
   "source": [
    "# Part 1\n",
    "def gen_f_density(n,p,x):\n",
    "    N = len(x)\n",
    "    density = np.zeros((N,))\n",
    "    for i in range(N):\n",
    "        density[i] = f.pdf(x[i],n,p)\n",
    "    return density"
   ]
  },
  {
   "cell_type": "code",
   "execution_count": 4,
   "metadata": {
    "deletable": false,
    "editable": false,
    "nbgrader": {
     "cell_type": "code",
     "checksum": "59fcede359c677fd522b0bbc9bd0a8df",
     "grade": true,
     "grade_id": "cell-1e6b1d56387c2ad5",
     "locked": true,
     "points": 1,
     "schema_version": 3,
     "solution": false,
     "task": false
    }
   },
   "outputs": [],
   "source": [
    "x = np.arange(0.1, 1, 0.1)\n",
    "\n",
    "assert np.abs(gen_f_density(5, 30, x)[0] - 0.19842814) < 1e-8\n",
    "assert np.abs(gen_f_density(1, 30, x)[0] - 1.18820228) < 1e-8\n",
    "\n"
   ]
  },
  {
   "cell_type": "code",
   "execution_count": 5,
   "metadata": {
    "deletable": false,
    "nbgrader": {
     "cell_type": "code",
     "checksum": "0c3c911a13a462096eca518d3379ca48",
     "grade": false,
     "grade_id": "cell-23ff28ea6232e72a",
     "locked": false,
     "schema_version": 3,
     "solution": true,
     "task": false
    }
   },
   "outputs": [],
   "source": [
    "# Part 2\n",
    "def gen_f_quantile(n,p,q):\n",
    "    return f.ppf(q,n,p)"
   ]
  },
  {
   "cell_type": "code",
   "execution_count": 6,
   "metadata": {
    "deletable": false,
    "editable": false,
    "nbgrader": {
     "cell_type": "code",
     "checksum": "0673a47ed38c3fa236a07273f607640b",
     "grade": true,
     "grade_id": "cell-b147ee38e8ae83d4",
     "locked": true,
     "points": 1,
     "schema_version": 3,
     "solution": false,
     "task": false
    }
   },
   "outputs": [],
   "source": [
    "assert np.abs(gen_f_quantile(1, 30, 0.95) - 4.170876785766691) < 1e-8\n",
    "\n"
   ]
  },
  {
   "cell_type": "markdown",
   "metadata": {
    "deletable": false,
    "editable": false,
    "nbgrader": {
     "cell_type": "markdown",
     "checksum": "d67837131b17be4c061075965e6db069",
     "grade": false,
     "grade_id": "cell-e1783999241e6cb7",
     "locked": true,
     "schema_version": 3,
     "solution": false,
     "task": false
    }
   },
   "source": [
    "## Question 2 Student’s t-Test for Two Independent Samples\n",
    "\n",
    "The indepedent sample t test is a statistical procedure used to compare the difference between two groups, the difference between the two population means, where the variance in one or both population(s) is unknown. More specifically, the two hypotheses are:\n",
    "\n",
    "* $H_0$: $\\mu_1 = \\mu_2$\n",
    "* $H_1$: $\\mu_1 \\ne \\mu_2$,\n",
    "\n",
    "where $\\mu_1$ and $\\mu_2$ are the mean of group 1 and 2, respectively.\n",
    "\n",
    "The test statistic can be calculated using formula\n",
    "$$t = \\frac{\\bar{X_1}-\\bar{X_2}}{\\sqrt{\\frac{{S_1}^2}{n_1}+\\frac{{S_2}^2}{n_2}}},$$\n",
    "where $\\bar X_i$, $S_i^2$ and $n_i$ is the mean, variance and size of sample $i$, $i=1,2$.\n",
    "\n",
    "We seed the random number generator using `np.random.seed(1)`, and generate two `numpy.array`s of length 100 that are both distributed according to the standard normal distributions, named `sample1` and `sample2`.\n",
    "\n",
    "1. Generate two `numpy.arrays`, named `data1` and `data2`, where the numbers on `data1` are normally distributed with mean 50 and variance 25, and the numbers on `data2` are normally distributed with mean 51 and variance 25. You should not call a random number generator for this. Rather, you should transform the variables `sample1` and `sample2`.\n",
    "1. Write a function `find_t_stat(x1, x2)` that takes two samples contained in `numpy.array`s `x1` and `x2` as input, and outputs the t-statistic (defined above).\n",
    "1. Write a function `t_test(x1, x2, alpha)` that takes  takes two samples contained in `numpy.array`s `x1` and `x2`, as well as `alpha` as input, and outputs a tuple of 3 values: the t-test statistic (you can use the function `find_t_stat(x1, x2)` you defined in the last part to compute this), critial value (for the given alpha) and the $p$-value. You can assume that the degree of freedom is the sum of the sizes of both samples minus 2. \n",
    "\n"
   ]
  },
  {
   "cell_type": "code",
   "execution_count": 7,
   "metadata": {
    "deletable": false,
    "editable": false,
    "nbgrader": {
     "cell_type": "code",
     "checksum": "8654306b1123cde17d921d211340ab53",
     "grade": false,
     "grade_id": "cell-ed8aa5d241010f84",
     "locked": true,
     "schema_version": 3,
     "solution": false,
     "task": false
    }
   },
   "outputs": [],
   "source": [
    "import numpy as np\n",
    "import scipy.stats as stats\n",
    "from scipy.stats import t\n",
    "np.random.seed(1)\n",
    "sample1 = np.random.randn(100)\n",
    "sample2 = np.random.randn(100)"
   ]
  },
  {
   "cell_type": "code",
   "execution_count": 8,
   "metadata": {
    "deletable": false,
    "nbgrader": {
     "cell_type": "code",
     "checksum": "cc288753fbc0d8d007629a83f5a19b29",
     "grade": false,
     "grade_id": "cell-ed8aa5d241010f84a",
     "locked": false,
     "schema_version": 3,
     "solution": true,
     "task": false
    }
   },
   "outputs": [],
   "source": [
    "# Part 1\n",
    "data1 = 5*sample1 + 50\n",
    "data2 = 5*sample2 + 51"
   ]
  },
  {
   "cell_type": "code",
   "execution_count": 9,
   "metadata": {
    "deletable": false,
    "editable": false,
    "nbgrader": {
     "cell_type": "code",
     "checksum": "5436cf1a0f54fb8735b7cb6e463ddcdd",
     "grade": true,
     "grade_id": "cell-7005f587d0e62012",
     "locked": true,
     "points": 1,
     "schema_version": 3,
     "solution": false,
     "task": false
    }
   },
   "outputs": [],
   "source": [
    "assert np.abs(np.mean(data1) - 50) < 2\n",
    "assert np.abs(np.mean(data2) - 50) < 2\n",
    "assert np.abs(np.std(data1) - 5) < 1\n",
    "\n"
   ]
  },
  {
   "cell_type": "code",
   "execution_count": 10,
   "metadata": {
    "deletable": false,
    "nbgrader": {
     "cell_type": "code",
     "checksum": "3b456e73e84a7eec46693a9ab6567efc",
     "grade": false,
     "grade_id": "cell-ced8d03374303f6f",
     "locked": false,
     "schema_version": 3,
     "solution": true,
     "task": false
    }
   },
   "outputs": [],
   "source": [
    "# Part 2\n",
    "def find_t_stat(x1,x2):\n",
    "    xbar1 , xbar2 = np.mean(x1) , np.mean(x2)\n",
    "    var1 , var2 = np.var(x1) , np.var(x2)\n",
    "    n1 , n2 = len(x1) , len(x2)\n",
    "    t = (xbar1 - xbar2)/(np.sqrt((var1/n1)+(var2/n2)))\n",
    "    return t"
   ]
  },
  {
   "cell_type": "code",
   "execution_count": 11,
   "metadata": {
    "deletable": false,
    "editable": false,
    "nbgrader": {
     "cell_type": "code",
     "checksum": "8a8112cf434f7ea24fe32dcb8f221ec5",
     "grade": true,
     "grade_id": "cell-6bb70494eb5c836a",
     "locked": true,
     "points": 1,
     "schema_version": 3,
     "solution": false,
     "task": false
    }
   },
   "outputs": [],
   "source": [
    "assert np.abs(np.abs(find_t_stat(data1, data2)) - 2.27) < 1e-2"
   ]
  },
  {
   "cell_type": "code",
   "execution_count": 12,
   "metadata": {
    "deletable": false,
    "nbgrader": {
     "cell_type": "code",
     "checksum": "4487162531ed28f027fab9f3accf4e0b",
     "grade": false,
     "grade_id": "cell-3bab6c32e1dd2919",
     "locked": false,
     "schema_version": 3,
     "solution": true,
     "task": false
    }
   },
   "outputs": [],
   "source": [
    "# Part 3\n",
    "def t_test(x1,x2,alpha):\n",
    "    t = find_t_stat(x1,x2)\n",
    "    df = len(x1) + len(x2) -2\n",
    "    cv = stats.t.ppf(1-alpha/2, df)\n",
    "    pval = 2*(1-stats.t.cdf(np.abs(t), df))\n",
    "    return t, cv, pval"
   ]
  },
  {
   "cell_type": "code",
   "execution_count": 13,
   "metadata": {
    "deletable": false,
    "editable": false,
    "nbgrader": {
     "cell_type": "code",
     "checksum": "252818d12db91db23b0830676dbca633",
     "grade": true,
     "grade_id": "cell-34392c03aa7c1b05",
     "locked": true,
     "points": 1,
     "schema_version": 3,
     "solution": false,
     "task": false
    }
   },
   "outputs": [],
   "source": [
    "assert len(t_test(data1, data2, 0.05)) == 3\n",
    "assert np.abs(t_test(data1, data2, 0.05)[0] - find_t_stat(data1, data2)) < 1e-10\n",
    "assert np.abs(t_test(data1, data2, 0.05)[2] - 0.024) < 1e-3\n",
    "\n"
   ]
  },
  {
   "cell_type": "markdown",
   "metadata": {
    "deletable": false,
    "editable": false,
    "nbgrader": {
     "cell_type": "markdown",
     "checksum": "ce4dd8de96e10c6a1c210f48bf8b3c53",
     "grade": false,
     "grade_id": "cell-c00579b352c1c332",
     "locked": true,
     "schema_version": 3,
     "solution": false,
     "task": false
    }
   },
   "source": [
    "# Question 3: The Lotka-Volterra equations\n",
    "In the Canadian arctic, the main food of canadian lynx are snowshoe hares. While hares reproduce quickly (they are a type of rabbit, after all), if lynx predate too many hares, the population of hares crashes. This then leads to lynx having few to no kittens, and so the population of lynx reduces, allowing the hare population to recover. This in turns allows for more lynx kittens to survive and predation to rise again. Thise dynamics leads to a surprising phenomenon: **predator-prey population oscillations** in the lynx and hare numbers.\n",
    "\n",
    "The simplest model of these predator-prey oscillations are the Lotka-Volterra equations:\n",
    "Let $H$ be the density of hares in a region, and $L$ the corresponding density of lynx, both in dimensionless units. Then the dynamics of $h$ and $l$ are given by\n",
    "\\begin{align}\n",
    "\\frac{dH}{dt} &= b H - p H L \\\\\n",
    "\\frac{dL}{dt} &= - d L + r L H.\n",
    "\\end{align}\n",
    "Here $b$ is the net birth rate of hares, $b>0$ always (they do breed like rabbits). The term $p H L$ expresses the rate of predation of hares by lynx, which reduces the hare population. The number of lynx decreases with their death rate $d$, but increases due to preying on hares with rate $r$."
   ]
  },
  {
   "cell_type": "markdown",
   "metadata": {
    "deletable": false,
    "editable": false,
    "nbgrader": {
     "cell_type": "markdown",
     "checksum": "084b280bbb1d7fe2b80fbfcdaade3c09",
     "grade": false,
     "grade_id": "cell-69ece48752d0f1d3",
     "locked": true,
     "schema_version": 3,
     "solution": false,
     "task": false
    }
   },
   "source": [
    "## Part 1\n",
    "Numerically integrate the Lotka-Volterra equations using a 4th order Runge-Kutta integrator. To make the remainder of this question work, please wrap your whole solution into a function which takes as arguments the Lotka-Volterra parameters, the initial conditions, the time step and the time interval, and returns arrays for hare and lynx populations. PLEASE USE THE TEMPLATE PROVIDED.\n",
    "\n",
    "Run your function on the sample parameters $b=p=d=r=1$ with initial conditions $H = L = 0.5$ , and plot the results to make sure that it works, i.e. that you see oscillations."
   ]
  },
  {
   "cell_type": "code",
   "execution_count": 14,
   "metadata": {
    "deletable": false,
    "editable": false,
    "nbgrader": {
     "cell_type": "code",
     "checksum": "670bc220cc13f87bc7f740b81970d3e5",
     "grade": false,
     "grade_id": "cell-a23fa68c9cfae154",
     "locked": true,
     "schema_version": 3,
     "solution": false,
     "task": false
    }
   },
   "outputs": [],
   "source": [
    "import numpy as np\n",
    "import matplotlib.pyplot as plt"
   ]
  },
  {
   "cell_type": "code",
   "execution_count": 15,
   "metadata": {
    "deletable": false,
    "nbgrader": {
     "cell_type": "code",
     "checksum": "9922f168666b21e772a349e62d887123",
     "grade": false,
     "grade_id": "cell-b7b39455b569a9bd",
     "locked": false,
     "schema_version": 3,
     "solution": true,
     "task": false
    }
   },
   "outputs": [],
   "source": [
    "# Part 1\n",
    "def func_VL(t,H,L,b,p,d,r,dt):\n",
    "    fH = b*H - p*H*L\n",
    "    fL = -d*L + r*L*H\n",
    "    return fH*dt, fL*dt\n",
    "\n",
    "def LotkaVolterra(b,p,d,r,H0,L0,dt,T):\n",
    "    N = int(T/dt)\n",
    "    \n",
    "    t = np.zeros((N,))\n",
    "    H = np.zeros((N,))\n",
    "    L = np.zeros((N,))\n",
    "    \n",
    "    H[0] = H0\n",
    "    L[0] = L0\n",
    "    \n",
    "    for n in range(0,N-1):\n",
    "        k1_fH,k1_fL = func_VL(t[n],H[n],L[n],b,p,d,r,dt)\n",
    "        k2_fH,k2_fL = func_VL(t[n]+dt/2,H[n]+k1_fH/2,L[n]+k1_fL/2,b,p,d,r,dt)\n",
    "        k3_fH,k3_fL = func_VL(t[n]+dt/2,H[n]+k2_fH/2,L[n]+k2_fL/2,b,p,d,r,dt)\n",
    "        k4_fH,k4_fL = func_VL(t[n]+dt,H[n]+k3_fH,L[n]+k3_fL,b,p,d,r,dt)\n",
    "    \n",
    "        t[n+1] = t[n] + dt\n",
    "        H[n+1] = H[n] + k1_fH/6 + k2_fH/3 + k3_fH/3 + k4_fH/6\n",
    "        L[n+1] = L[n] + k1_fL/6 + k2_fL/3 + k4_fL/3 + k4_fL/6\n",
    "    \n",
    "    return t,H,L"
   ]
  },
  {
   "cell_type": "code",
   "execution_count": 16,
   "metadata": {
    "deletable": false,
    "editable": false,
    "nbgrader": {
     "cell_type": "code",
     "checksum": "954027293e3ff527bd08c7802ba912ee",
     "grade": true,
     "grade_id": "cell-09f5f5aa321c34fd",
     "locked": true,
     "points": 1,
     "schema_version": 3,
     "solution": false,
     "task": false
    }
   },
   "outputs": [],
   "source": [
    "# Basic test of your function. Make sure your syntax is right!\n",
    "time,hare,lynx = LotkaVolterra(1,1,1,1,1,1,0.01,20)\n",
    "\n",
    "assert (np.std(hare)<1e-14)\n",
    "assert (np.std(lynx)<1e-14)"
   ]
  },
  {
   "cell_type": "code",
   "execution_count": 17,
   "metadata": {
    "deletable": false,
    "editable": false,
    "nbgrader": {
     "cell_type": "code",
     "checksum": "a67445031b6e00d71bf7c22053e972f8",
     "grade": true,
     "grade_id": "cell-8eba649c61d4aef4",
     "locked": true,
     "points": 2,
     "schema_version": 3,
     "solution": false,
     "task": false
    }
   },
   "outputs": [
    {
     "data": {
      "image/png": "[encoded data removed]",
      "text/plain": [
       "<Figure size 432x288 with 1 Axes>"
      ]
     },
     "metadata": {
      "needs_background": "light"
     },
     "output_type": "display_data"
    }
   ],
   "source": [
    "# Some more tests here. This includes a hidden one of the same nature, but with different parameters. \n",
    "time,hare,lynx = LotkaVolterra(1,1,1,1,0.5,0.5,0.001,20)\n",
    "assert (abs(np.std(hare)-0.612)<1e-3)\n",
    "assert (abs(np.std(lynx)-0.612)<1e-3)\n",
    "\n",
    "# Not a test, just a visualisation to help you see what is happening\n",
    "plt.figure()\n",
    "plt.plot(time,hare,'-b',label='hare')\n",
    "plt.plot(time,lynx,'-r',label='lynx')\n",
    "plt.xlabel('time')\n",
    "plt.ylabel('population')\n",
    "plt.legend()\n",
    "\n",
    "# Checking order of parameters\n",
    "time,hare,lynx = LotkaVolterra(0.5,1,1,2,0.5,0.5,0.001,20)\n",
    "assert (np.std(hare)<1e-14)\n",
    "assert (np.std(lynx)<1e-14)\n"
   ]
  },
  {
   "cell_type": "markdown",
   "metadata": {
    "deletable": false,
    "editable": false,
    "nbgrader": {
     "cell_type": "markdown",
     "checksum": "b30786f0ba04adb357fba21bd8f6e677",
     "grade": false,
     "grade_id": "cell-835a02dd3394693c",
     "locked": true,
     "schema_version": 3,
     "solution": false,
     "task": false
    }
   },
   "source": [
    "## Part 2\n",
    "The Lotka-Volterra equations are integrable, and in particular, there is a conserved quantity associated to them, which can be expressed as\n",
    "\\begin{equation} C = b \\log L - p L -r H + d \\log H, \\end{equation}\n",
    "where $\\log$ is the natural logarithm, aka `np.log(x)`.\n",
    "\n",
    "Write a function that computes the conserved quantity, if given the 4 parameters and initial conditions for H and L. To do this, you need to call your LotkaVolterra function from inside your new function, with the correct 4 parameters, and a suitable integration range (not too long) and time step (small). Then make it compute solutions, and then use these solutions to compute the $C$ vector. \n",
    "\n",
    "Check that $C$ is approximately constant by creating a plot inside your function (do not worry if there is a slight drift).\n",
    "Finally, take the average of $C$. This is your result: make it the return argument of your function."
   ]
  },
  {
   "cell_type": "code",
   "execution_count": 18,
   "metadata": {
    "deletable": false,
    "nbgrader": {
     "cell_type": "code",
     "checksum": "1e492458f1fc6752ae86b396f51cf37e",
     "grade": false,
     "grade_id": "cell-d43f88a5be19e68b",
     "locked": false,
     "schema_version": 3,
     "solution": true,
     "task": false
    }
   },
   "outputs": [],
   "source": [
    "def conserved(b,p,d,r,H0,L0):\n",
    "    \n",
    "    t,H,L = LotkaVolterra(b,p,d,r,H0,L0,0.001,20)\n",
    "    \n",
    "    C = b*np.log(L)-p*L-r*H+d*np.log(H)\n",
    "    \n",
    "    plt.figure()\n",
    "    plt.plot(t,C,'-b',label='Conserved Quantity')\n",
    "    plt.xlabel('time')\n",
    "    plt.ylabel('value')\n",
    "    plt.legend()\n",
    "    plt.show()\n",
    "    \n",
    "    return np.mean(C)"
   ]
  },
  {
   "cell_type": "code",
   "execution_count": 19,
   "metadata": {
    "deletable": false,
    "editable": false,
    "nbgrader": {
     "cell_type": "code",
     "checksum": "7272c4e017b86c8c0db9ab42437b7069",
     "grade": true,
     "grade_id": "cell-89c7fd304e024235",
     "locked": true,
     "points": 1,
     "schema_version": 3,
     "solution": false,
     "task": false
    }
   },
   "outputs": [
    {
     "data": {
      "image/png": "[encoded data removed]",
      "text/plain": [
       "<Figure size 432x288 with 1 Axes>"
      ]
     },
     "metadata": {
      "needs_background": "light"
     },
     "output_type": "display_data"
    },
    {
     "data": {
      "image/png": "[encoded data removed]",
      "text/plain": [
       "<Figure size 432x288 with 1 Axes>"
      ]
     },
     "metadata": {
      "needs_background": "light"
     },
     "output_type": "display_data"
    }
   ],
   "source": [
    "# Checking a couple of values for C. There is one hidden check here, of a similar nature.\n",
    "cval = conserved(1,1,1,1,1.0,1.0)\n",
    "assert abs(cval+2.0)<1e-14\n",
    "\n",
    "cval = conserved(0.5,1,1,2,0.4,0.4)\n",
    "assert (abs(cval+2.574)<1e-2)\n"
   ]
  },
  {
   "cell_type": "markdown",
   "metadata": {
    "deletable": false,
    "editable": false,
    "nbgrader": {
     "cell_type": "markdown",
     "checksum": "806a801bbf9495fdc70c401430fee69a",
     "grade": false,
     "grade_id": "cell-880e9b59434715fc",
     "locked": true,
     "schema_version": 3,
     "solution": false,
     "task": false
    }
   },
   "source": [
    "## Part 3\n",
    "For a given set of $b,p,h,l$, the amplitude of the predator-prey oscillations strongly depends on the initial conditions for the population. We will again choose $b=p=d=r=1$ for simplicity.\n",
    "\n",
    "You task is now to construct a phase space plot of $H$ vs. $L$ (on the $y$ and $x$ axis, respectively), that combines several initial conditions on the same plot. Additionally, compute the value of $C$ for each initial condition. This will allow you to answer a couple of questions. "
   ]
  },
  {
   "cell_type": "code",
   "execution_count": 20,
   "metadata": {
    "deletable": false,
    "nbgrader": {
     "cell_type": "code",
     "checksum": "88a883a674bff927ecfd9e9a29e5be1f",
     "grade": false,
     "grade_id": "cell-588c938263cc308f",
     "locked": false,
     "schema_version": 3,
     "solution": true,
     "task": false
    }
   },
   "outputs": [
    {
     "data": {
      "image/png": "[encoded data removed]",
      "text/plain": [
       "<Figure size 432x288 with 1 Axes>"
      ]
     },
     "metadata": {
      "needs_background": "light"
     },
     "output_type": "display_data"
    }
   ],
   "source": [
    "# A set of 5 initial conditions\n",
    "Hini = [0.2,0.4,0.6,0.8,1.0]\n",
    "Lini = [0.2,0.4,0.6,0.8,1.0]\n",
    "colours = ['b','g','r','c','m']\n",
    "\n",
    "plt.figure()\n",
    "for i in range(len(Hini)):\n",
    "    t,H,L = LotkaVolterra(1,1,1,1,Hini[i],Lini[i],0.001,20)\n",
    "    plt.plot(L,H,colours[i])\n",
    "plt.show()\n"
   ]
  },
  {
   "cell_type": "code",
   "execution_count": 21,
   "metadata": {
    "deletable": false,
    "nbgrader": {
     "cell_type": "code",
     "checksum": "8b5485ce7c7f44601b41e7f0f872cd40",
     "grade": false,
     "grade_id": "cell-9fb2c92a0b5c3a73",
     "locked": false,
     "schema_version": 3,
     "solution": true,
     "task": false
    }
   },
   "outputs": [],
   "source": [
    "# Please fill in True or False\n",
    "\n",
    "# 1. There is a stationary point of the equations at position (1,1).\n",
    "stationary = True\n",
    "# 2. The amplitude of oscillations decreases when the initial condition moves away from the stationary point.\n",
    "amplitude = False\n",
    "# 3. There is a minimum of C at the stationary point\n",
    "minimum = False\n",
    "# 4. The initial condition H0 = L0 = 0.1 would have larger amplitude oscillations \n",
    "# and a smaller C than all of the plotted curves.\n",
    "initial = True\n"
   ]
  },
  {
   "cell_type": "code",
   "execution_count": 22,
   "metadata": {
    "deletable": false,
    "editable": false,
    "nbgrader": {
     "cell_type": "code",
     "checksum": "0b698b1f9d04ff3a0479b8cae86a3749",
     "grade": true,
     "grade_id": "cell-6a14d973cd1cafb2",
     "locked": true,
     "points": 1,
     "schema_version": 3,
     "solution": false,
     "task": false
    }
   },
   "outputs": [],
   "source": [
    "# Checking your answers here (hidden, there is no other option :) ) "
   ]
  }
 ],
 "metadata": {
  "kernelspec": {
   "display_name": "Python 3",
   "language": "python",
   "name": "python3"
  },
  "language_info": {
   "codemirror_mode": {
    "name": "ipython",
    "version": 3
   },
   "file_extension": ".py",
   "mimetype": "text/x-python",
   "name": "python",
   "nbconvert_exporter": "python",
   "pygments_lexer": "ipython3",
   "version": "3.7.4"
  }
 },
 "nbformat": 4,
 "nbformat_minor": 2
}
