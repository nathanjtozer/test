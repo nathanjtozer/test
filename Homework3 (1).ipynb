{
 "cells": [
  {
   "cell_type": "markdown",
   "metadata": {},
   "source": [
    "Before you turn this problem in, make sure everything runs as expected. First, **restart the kernel** (in the menubar, select Kernel$\\rightarrow$Restart) and then **run all cells** (in the menubar, select Cell$\\rightarrow$Run All).\n",
    "\n",
    "Make sure you fill in any place that says `YOUR CODE HERE` or \"YOUR ANSWER HERE\", as well as your name and University of Bristol ID:"
   ]
  },
  {
   "cell_type": "code",
   "execution_count": 1,
   "metadata": {},
   "outputs": [],
   "source": [
    "NAME = \"Nathan Tozer\"\n",
    "UoB_ID = \"ki18468\""
   ]
  },
  {
   "cell_type": "markdown",
   "metadata": {},
   "source": [
    "---"
   ]
  },
  {
   "cell_type": "markdown",
   "metadata": {
    "deletable": false,
    "editable": false,
    "nbgrader": {
     "cell_type": "markdown",
     "checksum": "10cb84260804e212aa18cb41da411f8e",
     "grade": false,
     "grade_id": "title",
     "locked": true,
     "schema_version": 3,
     "solution": false,
     "task": false
    }
   },
   "source": [
    "# Homework 3"
   ]
  },
  {
   "cell_type": "markdown",
   "metadata": {
    "deletable": false,
    "editable": false,
    "nbgrader": {
     "cell_type": "markdown",
     "checksum": "ded3cb272b8f28401114fdf865be3a91",
     "grade": false,
     "grade_id": "q10a",
     "locked": true,
     "schema_version": 3,
     "solution": false,
     "task": false
    }
   },
   "source": [
    "## Question 1\n",
    "\n",
    "1. Create a function `gen_matrix1` that take $m,n\\in\\mathbb{N}$ as input and generate a $m\\times n$ matrix (`numpy.array`) $A$ with entries $a_{ij}$, $0\\le i\\le m-1, 0\\le j\\le n-1$, with $a_{ij} = j \\cdot m + i$.\n",
    "1. Create a function `find_val1` that takes an $m\\times n$ real-valued matrix $A=(a_{ij})$ that returns a 1D `numpy` array where the $i^{th}$ entry is the values amongst $a_{i1},\\ldots,a_{in}$ that is closest to 5. Hint: you may find `numpy.argmin` useful, or another functionality of `numpy`."
   ]
  },
  {
   "cell_type": "code",
   "execution_count": 2,
   "metadata": {
    "deletable": false,
    "nbgrader": {
     "cell_type": "code",
     "checksum": "713208175da2ebf153864f89b7b461e5",
     "grade": false,
     "grade_id": "q1a",
     "locked": false,
     "schema_version": 3,
     "solution": true,
     "task": false
    }
   },
   "outputs": [],
   "source": [
    "# MANDATORY: Your functions need to be called gen_matrix1 and find_val1 exactly\n",
    "# Parts 1 and 2\n",
    "\n",
    "# YOUR CODE HERE\n",
    "import numpy as np\n",
    "import pandas as pd\n",
    "import matplotlib as plt\n",
    "\n",
    "# YOUR CODE HERE\n",
    "\n",
    "#PART 1\n",
    "def gen_matrix1(m,n):\n",
    "    matrix = np.zeros((m,n))\n",
    "    for i in range(m):\n",
    "        for j in range(n):\n",
    "            matrix[i,j] = j*m + i\n",
    "    return matrix\n",
    "\n",
    "#PART 2\n",
    "def find_val1(M):\n",
    "    vector = np.zeros((np.shape(M)[0],))\n",
    "    minindex = np.argmin(abs(M-5), axis=1)\n",
    "    for i in range(np.shape(M)[0]):\n",
    "        vector[i] = M[i,minindex[i]]\n",
    "    return vector"
   ]
  },
  {
   "cell_type": "code",
   "execution_count": 3,
   "metadata": {
    "deletable": false,
    "editable": false,
    "nbgrader": {
     "cell_type": "code",
     "checksum": "018aa3c6ed585a9d77272833e4105efa",
     "grade": true,
     "grade_id": "q1t",
     "locked": true,
     "points": 1,
     "schema_version": 3,
     "solution": false,
     "task": false
    }
   },
   "outputs": [],
   "source": [
    "A = np.array([[0, 5, 10], [1, 6, 11], [2, 7, 12], [3, 8, 13], [4, 9, 14]])\n",
    "\n",
    "assert np.max(np.abs(gen_matrix1(5, 3)\n",
    "                     - [[0, 5, 10], [1, 6, 11], [2, 7, 12], [3, 8, 13], [4, 9, 14]])) < 1e-10\n"
   ]
  },
  {
   "cell_type": "code",
   "execution_count": 4,
   "metadata": {
    "deletable": false,
    "editable": false,
    "nbgrader": {
     "cell_type": "code",
     "checksum": "063f0271a963e7bec8bb356bb05e7d06",
     "grade": true,
     "grade_id": "q2t",
     "locked": true,
     "points": 1,
     "schema_version": 3,
     "solution": false,
     "task": false
    }
   },
   "outputs": [],
   "source": [
    "assert np.max(np.abs(find_val1(A) - np.array([5, 6, 7, 3, 4]))) < 1e-10\n"
   ]
  },
  {
   "cell_type": "markdown",
   "metadata": {
    "deletable": false,
    "editable": false,
    "nbgrader": {
     "cell_type": "markdown",
     "checksum": "1ddb80f90436596af1576c6bb48a2412",
     "grade": false,
     "grade_id": "q20a",
     "locked": true,
     "schema_version": 3,
     "solution": false,
     "task": false
    }
   },
   "source": [
    "## Question 2\n",
    "\n",
    "The data in `populations.txt` describes the populations of hares and lynxes (and carrots) in northern Canada from 1900 to 1920.\n",
    "\n",
    "First, load the data into a `numpy` array and plot it.\n",
    "\n",
    "Then compute and print, based on the data in `populations.txt`\n",
    "\n",
    "1. Write a function `find_mean1` that takes `data` as input and outputs a `numpy.array` with the mean of each species. Write a nother function `find_std1` that takes `data` as input and outputs a `numpy.array` with the standard deviation of each species.\n",
    "\n",
    "1. Write a function `find_year_max1` that takes `data` as input and outputs a `numpy.array` with the year when each species had the largest population.\n",
    "\n",
    "1. Write a function `find_species_max1` that takes `data` as input and outputs a `numpy.array` of length 20 that outputs the name of species (`Hare`, `Lynx`, or `Carrot`) that has the largest population of that year.\n",
    "\n",
    "1. Write a function `find_year_50000` that takes `data` as input and outputs a `numpy.array` consisting of years when any of the three populations (Hare, Lynx, or Carrot) is above 50000. (Hint: use `np.any`)\n"
   ]
  },
  {
   "cell_type": "code",
   "execution_count": 5,
   "metadata": {
    "deletable": false,
    "editable": false,
    "nbgrader": {
     "cell_type": "code",
     "checksum": "f3922e85cea73d1661697dcc176843d0",
     "grade": false,
     "grade_id": "q20b",
     "locked": true,
     "schema_version": 3,
     "solution": false,
     "task": false
    }
   },
   "outputs": [
    {
     "name": "stdout",
     "output_type": "stream",
     "text": [
      "[[ 1900. 30000.  4000. 48300.]\n",
      " [ 1901. 47200.  6100. 48200.]\n",
      " [ 1902. 70200.  9800. 41500.]\n",
      " [ 1903. 77400. 35200. 38200.]\n",
      " [ 1904. 36300. 59400. 40600.]\n",
      " [ 1905. 20600. 41700. 39800.]\n",
      " [ 1906. 18100. 19000. 38600.]\n",
      " [ 1907. 21400. 13000. 42300.]\n",
      " [ 1908. 22000.  8300. 44500.]\n",
      " [ 1909. 25400.  9100. 42100.]\n",
      " [ 1910. 27100.  7400. 46000.]\n",
      " [ 1911. 40300.  8000. 46800.]\n",
      " [ 1912. 57000. 12300. 43800.]\n",
      " [ 1913. 76600. 19500. 40900.]\n",
      " [ 1914. 52300. 45700. 39400.]\n",
      " [ 1915. 19500. 51100. 39000.]\n",
      " [ 1916. 11200. 29700. 36700.]\n",
      " [ 1917.  7600. 15800. 41800.]\n",
      " [ 1918. 14600.  9700. 43300.]\n",
      " [ 1919. 16200. 10100. 41300.]\n",
      " [ 1920. 24700.  8600. 47300.]]\n"
     ]
    },
    {
     "data": {
      "text/plain": [
       "<Figure size 640x480 with 1 Axes>"
      ]
     },
     "metadata": {},
     "output_type": "display_data"
    }
   ],
   "source": [
    "data = np.loadtxt(\"populations.txt\")\n",
    "print(data)\n",
    "\n",
    "import matplotlib.pyplot as plt\n",
    "plt.style.use(\"ggplot\")\n",
    "plt.plot(data[:,0], data[:,1], label=\"hare\")\n",
    "plt.plot(data[:,0], data[:,2], label=\"lynx\")\n",
    "plt.plot(data[:,0], data[:,3], label=\"carrot\") \n",
    "plt.legend((\"hare\", \"lynx\", \"carrot\"))\n",
    "plt.show()"
   ]
  },
  {
   "cell_type": "code",
   "execution_count": 6,
   "metadata": {
    "deletable": false,
    "nbgrader": {
     "cell_type": "code",
     "checksum": "d6b066b50d4ad9c7948b534495f9eaad",
     "grade": false,
     "grade_id": "q21a",
     "locked": false,
     "schema_version": 3,
     "solution": true,
     "task": false
    }
   },
   "outputs": [],
   "source": [
    "# Part 1\n",
    "\n",
    "# YOUR CODE HERE\n",
    "def column(M, i):\n",
    "    return np.array([row[i] for row in M])\n",
    "\n",
    "def find_mean1(data):\n",
    "    mean = np.zeros((3,))\n",
    "    for i in range(3):\n",
    "        mean[i] = np.mean(column(data, i+1))\n",
    "    return mean"
   ]
  },
  {
   "cell_type": "code",
   "execution_count": 7,
   "metadata": {
    "deletable": false,
    "editable": false,
    "nbgrader": {
     "cell_type": "code",
     "checksum": "e90a02ea05258d94041c6b6855a8d11c",
     "grade": true,
     "grade_id": "q21t",
     "locked": true,
     "points": 1,
     "schema_version": 3,
     "solution": false,
     "task": false
    }
   },
   "outputs": [],
   "source": [
    "assert np.max(np.abs(find_mean1(data)-np.array([34080, 20166, 42400]))) < 1\n"
   ]
  },
  {
   "cell_type": "code",
   "execution_count": 8,
   "metadata": {
    "deletable": false,
    "nbgrader": {
     "cell_type": "code",
     "checksum": "ed364584cc4759ae56d80fa177a6dc67",
     "grade": false,
     "grade_id": "q22a",
     "locked": false,
     "schema_version": 3,
     "solution": true,
     "task": false
    }
   },
   "outputs": [],
   "source": [
    "# Part 2\n",
    "# YOUR CODE HERE\n",
    "def find_std1(data):\n",
    "    std = np.zeros((3,))\n",
    "    for i in range(3):\n",
    "        std[i] = np.std(column(data, i+1))\n",
    "    return std"
   ]
  },
  {
   "cell_type": "code",
   "execution_count": 9,
   "metadata": {
    "deletable": false,
    "editable": false,
    "nbgrader": {
     "cell_type": "code",
     "checksum": "3a074e757955de16879b2ef442d13e35",
     "grade": true,
     "grade_id": "q22t",
     "locked": true,
     "points": 1,
     "schema_version": 3,
     "solution": false,
     "task": false
    }
   },
   "outputs": [],
   "source": [
    "assert np.max(np.abs(find_std1(data)-np.array([20897, 16254, 3322]))) < 1\n"
   ]
  },
  {
   "cell_type": "code",
   "execution_count": 10,
   "metadata": {
    "deletable": false,
    "nbgrader": {
     "cell_type": "code",
     "checksum": "4b773a7e01b0ea9b7771bf1c5bec5c85",
     "grade": false,
     "grade_id": "q23a",
     "locked": false,
     "schema_version": 3,
     "solution": true,
     "task": false
    }
   },
   "outputs": [],
   "source": [
    "# Part 3\n",
    "\n",
    "# YOUR CODE HERE\n",
    "def find_year_max1(data):\n",
    "    maxyear = np.zeros((3,))\n",
    "    maxindex = np.argmax(data, axis=0)\n",
    "    for i in range(3):\n",
    "        maxyear[i] = data[maxindex[i+1],0]\n",
    "    return maxyear"
   ]
  },
  {
   "cell_type": "code",
   "execution_count": 11,
   "metadata": {
    "deletable": false,
    "editable": false,
    "nbgrader": {
     "cell_type": "code",
     "checksum": "d7b897c61ffc29491a85b7ae08eee045",
     "grade": true,
     "grade_id": "q23t",
     "locked": true,
     "points": 1,
     "schema_version": 3,
     "solution": false,
     "task": false
    }
   },
   "outputs": [],
   "source": [
    "assert np.max(np.abs(find_year_max1(data)-np.array([1903, 1904, 1900]))) < 1e-10\n"
   ]
  },
  {
   "cell_type": "code",
   "execution_count": 12,
   "metadata": {
    "deletable": false,
    "nbgrader": {
     "cell_type": "code",
     "checksum": "73bd168abb8564730a73b4c7e2749a44",
     "grade": false,
     "grade_id": "q24a",
     "locked": false,
     "schema_version": 3,
     "solution": true,
     "task": false
    }
   },
   "outputs": [],
   "source": [
    "# Part 4\n",
    "\n",
    "# YOUR CODE HERE\n",
    "def find_species_max1(data):\n",
    "    maxanimal = ['']*21\n",
    "    maxinyear = np.argmax(data, axis=1)\n",
    "    for i in range(21):\n",
    "        if maxinyear[i] == 1:\n",
    "            maxanimal[i] = 'Hare'\n",
    "        elif maxinyear[i] == 2:\n",
    "            maxanimal[i] = 'Lynx'\n",
    "        elif maxinyear[i] == 3:\n",
    "            maxanimal[i] = 'Carrot'\n",
    "    return np.array(maxanimal)"
   ]
  },
  {
   "cell_type": "code",
   "execution_count": 13,
   "metadata": {
    "deletable": false,
    "editable": false,
    "nbgrader": {
     "cell_type": "code",
     "checksum": "7a45e3b80a38bb22442c01c92f08a27a",
     "grade": true,
     "grade_id": "q24t",
     "locked": true,
     "points": 1,
     "schema_version": 3,
     "solution": false,
     "task": false
    }
   },
   "outputs": [],
   "source": [
    "assert find_species_max1(data)[1] == \"Carrot\"\n",
    "assert find_species_max1(data)[2] == \"Hare\"\n",
    "assert find_species_max1(data)[-1] == \"Carrot\"\n"
   ]
  },
  {
   "cell_type": "code",
   "execution_count": 14,
   "metadata": {
    "deletable": false,
    "nbgrader": {
     "cell_type": "code",
     "checksum": "c3485c502e8921fdbcf2d615924037e7",
     "grade": false,
     "grade_id": "q25a",
     "locked": false,
     "schema_version": 3,
     "solution": true,
     "task": false
    }
   },
   "outputs": [
    {
     "data": {
      "text/plain": [
       "array([1902., 1903., 1904., 1912., 1913., 1914., 1915.])"
      ]
     },
     "execution_count": 14,
     "metadata": {},
     "output_type": "execute_result"
    }
   ],
   "source": [
    "# Part 5\n",
    "\n",
    "# YOUR CODE HERE\n",
    "def find_year_50000(data):\n",
    "    threshold = np.any(data > 50000, axis=1)\n",
    "    abovefifty = []\n",
    "    for i in range(21):\n",
    "        if threshold[i]:\n",
    "            abovefifty.append(column(data, 0)[i])\n",
    "    return np.array(abovefifty)\n",
    "\n",
    "find_year_50000(data)"
   ]
  },
  {
   "cell_type": "code",
   "execution_count": 15,
   "metadata": {
    "deletable": false,
    "editable": false,
    "nbgrader": {
     "cell_type": "code",
     "checksum": "2c2600b01966bdf74f8f88128ff74652",
     "grade": true,
     "grade_id": "q25t",
     "locked": true,
     "points": 1,
     "schema_version": 3,
     "solution": false,
     "task": false
    }
   },
   "outputs": [],
   "source": [
    "assert 1902 in find_year_50000(data)\n",
    "assert 1913 in find_year_50000(data)\n"
   ]
  },
  {
   "cell_type": "markdown",
   "metadata": {
    "deletable": false,
    "editable": false,
    "nbgrader": {
     "cell_type": "markdown",
     "checksum": "a2ae7f9ed3bb025955ce209d5c6d431e",
     "grade": false,
     "grade_id": "q30a",
     "locked": true,
     "schema_version": 3,
     "solution": false,
     "task": false
    }
   },
   "source": [
    "## Question 3\n",
    "\n",
    "We analyse the file `chipo.csv`, which contains a list of food items ordered at a Mexican restaurant (yummy). Each order is identified by `order_id` and may consists of multiple items described by `item_name`, for which the total price is listed under `item_price` (i.e. this price is the per item price multiplied by the `quantity`).\n",
    "\n",
    "We first read in the data file and drop the first column (which we do no need). We define the dataframe to be `df`.\n",
    "\n",
    "1. The column `item_price` has a $\\$$ sign in it. Strip the $\\$$ sign from `item_price` and create a new column named `price` with `float64` as its datatype containing the numerical price. Write a function `convert_price` that takes `df` has input and outputs a dataframe that is the same with `df` but with an added column named `price`.\n",
    "\n",
    "1. Write a function `find_order_spent` that takes `df` as input and outputs a `pandas.Series` object with `order_id` as index, and values of orders as values.\n",
    "\n",
    "1. Write a function `find_avg_price_paid` that takes `df` as input and outputs a `pandas.Series` (not `numpy.array`) with `item_name` as index, and the average price paid by the customer for each item as the value. Note that due to choice items, the same item can have different prices. For example, Chicken Burrito can cost $\\$ 8.49$ or $\\$ 10.98$.\n"
   ]
  },
  {
   "cell_type": "code",
   "execution_count": 16,
   "metadata": {
    "deletable": false,
    "editable": false,
    "nbgrader": {
     "cell_type": "code",
     "checksum": "2853f0d7f233b2f92b001579749df1f2",
     "grade": false,
     "grade_id": "q30b",
     "locked": true,
     "schema_version": 3,
     "solution": false,
     "task": false
    }
   },
   "outputs": [
    {
     "name": "stdout",
     "output_type": "stream",
     "text": [
      "   order_id  quantity                              item_name item_price\n",
      "0         1         1           Chips and Fresh Tomato Salsa     $2.39 \n",
      "1         1         1                                   Izze     $3.39 \n",
      "2         1         1                       Nantucket Nectar     $3.39 \n",
      "3         1         1  Chips and Tomatillo-Green Chili Salsa     $2.39 \n",
      "4         2         2                           Chicken Bowl    $16.98 \n",
      "===========\n",
      "      order_id  quantity           item_name item_price\n",
      "4617      1833         1       Steak Burrito    $11.75 \n",
      "4618      1833         1       Steak Burrito    $11.75 \n",
      "4619      1834         1  Chicken Salad Bowl    $11.25 \n",
      "4620      1834         1  Chicken Salad Bowl     $8.75 \n",
      "4621      1834         1  Chicken Salad Bowl     $8.75 \n",
      "===========\n",
      "<class 'pandas.core.frame.DataFrame'>\n",
      "RangeIndex: 4622 entries, 0 to 4621\n",
      "Data columns (total 4 columns):\n",
      "order_id      4622 non-null int64\n",
      "quantity      4622 non-null int64\n",
      "item_name     4622 non-null object\n",
      "item_price    4622 non-null object\n",
      "dtypes: int64(2), object(2)\n",
      "memory usage: 144.6+ KB\n",
      "None\n"
     ]
    }
   ],
   "source": [
    "import numpy as np\n",
    "import pandas as pd\n",
    "df = pd.read_csv(\"chipo.csv\")\n",
    "df.drop([\"Unnamed: 0\", \"choice_description\"], axis=1, inplace=True)\n",
    "print(df.head())\n",
    "print('===========')\n",
    "print(df.tail())\n",
    "print('===========')\n",
    "print(df.info())"
   ]
  },
  {
   "cell_type": "code",
   "execution_count": 17,
   "metadata": {
    "deletable": false,
    "nbgrader": {
     "cell_type": "code",
     "checksum": "778e03cdf22eb636b4664168fa6f8ac8",
     "grade": false,
     "grade_id": "q31a",
     "locked": false,
     "schema_version": 3,
     "solution": true,
     "task": false
    }
   },
   "outputs": [],
   "source": [
    "# Part 1\n",
    "\n",
    "# YOUR CODE HERE\n",
    "def convert_price(df):\n",
    "    df[\"price\"] = df.item_price.str.replace('$','').astype('float')\n",
    "    return df"
   ]
  },
  {
   "cell_type": "code",
   "execution_count": 18,
   "metadata": {
    "deletable": false,
    "editable": false,
    "nbgrader": {
     "cell_type": "code",
     "checksum": "7ccf643215f604b65b554592baaef51c",
     "grade": true,
     "grade_id": "q31t",
     "locked": true,
     "points": 1,
     "schema_version": 3,
     "solution": false,
     "task": false
    }
   },
   "outputs": [],
   "source": [
    "df1 = convert_price(df)\n",
    "assert df1.dtypes[\"price\"] == \"float64\"\n",
    "assert np.abs(df1.price[0] - 2.39) < 1e-14\n"
   ]
  },
  {
   "cell_type": "code",
   "execution_count": 19,
   "metadata": {
    "deletable": false,
    "nbgrader": {
     "cell_type": "code",
     "checksum": "47219a3cd463a5df9bec578fa34acfa6",
     "grade": false,
     "grade_id": "q32a",
     "locked": false,
     "schema_version": 3,
     "solution": true,
     "task": false
    }
   },
   "outputs": [],
   "source": [
    "# Part 2\n",
    "# YOUR CODE HERE\n",
    "def find_order_spent(df):\n",
    "    df1 = convert_price(df)\n",
    "    return df1.groupby('order_id')['price'].sum()"
   ]
  },
  {
   "cell_type": "code",
   "execution_count": 20,
   "metadata": {
    "deletable": false,
    "editable": false,
    "nbgrader": {
     "cell_type": "code",
     "checksum": "cd18893e11786b34d2e810a847b69209",
     "grade": true,
     "grade_id": "q32t",
     "locked": true,
     "points": 1,
     "schema_version": 3,
     "solution": false,
     "task": false
    }
   },
   "outputs": [],
   "source": [
    "order_spent = find_order_spent(df)\n",
    "assert type(order_spent) is pd.core.series.Series\n",
    "assert len(order_spent) == 1834\n",
    "assert np.abs(np.max(order_spent) - 205.25) < 1e-14\n"
   ]
  },
  {
   "cell_type": "code",
   "execution_count": 21,
   "metadata": {
    "deletable": false,
    "nbgrader": {
     "cell_type": "code",
     "checksum": "f1268234058656d3b500934495ca6436",
     "grade": false,
     "grade_id": "q33a",
     "locked": false,
     "schema_version": 3,
     "solution": true,
     "task": false
    }
   },
   "outputs": [],
   "source": [
    "# Part 3\n",
    "\n",
    "# YOUR CODE HERE\n",
    "def find_avg_price_paid(df):\n",
    "    df1 = convert_price(df)\n",
    "    rev = df1.groupby('item_name')['price'].sum()\n",
    "    quantity = df1.groupby('item_name')['quantity'].sum()\n",
    "    avg = rev/quantity\n",
    "    return avg"
   ]
  },
  {
   "cell_type": "code",
   "execution_count": 22,
   "metadata": {
    "deletable": false,
    "editable": false,
    "nbgrader": {
     "cell_type": "code",
     "checksum": "77bb05580f8b17f6855da01981402273",
     "grade": true,
     "grade_id": "q33t",
     "locked": true,
     "points": 1,
     "schema_version": 3,
     "solution": false,
     "task": false
    }
   },
   "outputs": [],
   "source": [
    "avg_price = find_avg_price_paid(df)\n",
    "assert type(avg_price) is pd.core.series.Series\n",
    "assert abs(avg_price[\"Chicken Burrito\"] - 9.43455) < 1e-5\n",
    "assert len(avg_price) == 50\n",
    "\n"
   ]
  }
 ],
 "metadata": {
  "kernelspec": {
   "display_name": "Python 3",
   "language": "python",
   "name": "python3"
  },
  "language_info": {
   "codemirror_mode": {
    "name": "ipython",
    "version": 3
   },
   "file_extension": ".py",
   "mimetype": "text/x-python",
   "name": "python",
   "nbconvert_exporter": "python",
   "pygments_lexer": "ipython3",
   "version": "3.7.4"
  }
 },
 "nbformat": 4,
 "nbformat_minor": 2
}
